{
 "cells": [
  {
   "cell_type": "code",
   "execution_count": 6,
   "metadata": {},
   "outputs": [],
   "source": [
    "import collections"
   ]
  },
  {
   "cell_type": "code",
   "execution_count": 7,
   "metadata": {},
   "outputs": [],
   "source": [
    "def bfs(graph, root):\n",
    "    seen, queue = set([root]), collections.deque([root])\n",
    "    while queue:\n",
    "        vertex = queue.popleft()\n",
    "        visit(vertex)\n",
    "        for node in graph[vertex]:\n",
    "            if node not in seen:\n",
    "                seen.add(node)\n",
    "                queue.append(node)"
   ]
  },
  {
   "cell_type": "code",
   "execution_count": 10,
   "metadata": {},
   "outputs": [],
   "source": [
    "def bfs1(graph, root,a):\n",
    "    seen, queue = set([root]), collections.deque([root])\n",
    "    temp=0\n",
    "    while queue:\n",
    "        vertex = queue.popleft()\n",
    "        if(vertex==a):\n",
    "            temp=1\n",
    "            print(a,\"is in the list\")\n",
    "            break\n",
    "        for node in graph[vertex]:\n",
    "            if node not in seen:\n",
    "                seen.add(node)\n",
    "                queue.append(node)\n",
    "    if(temp==0):\n",
    "          print(a, \"  is not in the list\")"
   ]
  },
  {
   "cell_type": "code",
   "execution_count": 11,
   "metadata": {},
   "outputs": [],
   "source": [
    "def visit(n):\n",
    "    print(n)"
   ]
  },
  {
   "cell_type": "code",
   "execution_count": 13,
   "metadata": {},
   "outputs": [
    {
     "name": "stdout",
     "output_type": "stream",
     "text": [
      "\n",
      "please enter the node from where you want to start traversing:\n",
      "1\n",
      "1\n",
      "48308\n",
      "48311\n",
      "6996\n",
      "7005\n",
      "51646\n",
      "16043\n",
      "51640\n",
      "9987\n",
      "71840\n",
      "51641\n",
      "8150\n",
      "51179\n",
      "\n",
      "please enter the node you want to search:\n",
      "8150\n",
      "8150 is in the list\n"
     ]
    }
   ],
   "source": [
    "if __name__ == '__main__':\n",
    "    graph = {1: [48308, 48311], \n",
    "             48308: [6996],\n",
    "             48311:[7005,51646],\n",
    "             6996: [16043],\n",
    "             7005: [6996],\n",
    "             51646: [51640],\n",
    "             16043:[9987,71840], \n",
    "             9987: [8150],\n",
    "             51640:[51641],\n",
    "             71840: [8150], \n",
    "             51641:[51179],\n",
    "             51179:[8150],\n",
    "             2: [7005],\n",
    "             3: [8150],\n",
    "             8150: []\n",
    "             } \n",
    "    print(\"\\nplease enter the node from where you want to start traversing:\")\n",
    "    b=int(input())\n",
    "    bfs(graph,b)\n",
    "    print(\"\\nplease enter the node you want to search:\")\n",
    "    a=int(input())\n",
    "    bfs1(graph,1, a)"
   ]
  },
  {
   "cell_type": "code",
   "execution_count": null,
   "metadata": {},
   "outputs": [],
   "source": []
  }
 ],
 "metadata": {
  "kernelspec": {
   "display_name": "Python 3",
   "language": "python",
   "name": "python3"
  },
  "language_info": {
   "codemirror_mode": {
    "name": "ipython",
    "version": 3
   },
   "file_extension": ".py",
   "mimetype": "text/x-python",
   "name": "python",
   "nbconvert_exporter": "python",
   "pygments_lexer": "ipython3",
   "version": "3.7.1"
  }
 },
 "nbformat": 4,
 "nbformat_minor": 2
}
