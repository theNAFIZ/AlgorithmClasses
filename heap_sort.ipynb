{
 "cells": [
  {
   "cell_type": "code",
   "execution_count": 1,
   "metadata": {},
   "outputs": [],
   "source": [
    "def heapify(arr, n, i): \n",
    "    largest = i\n",
    "    l = 2 * i + 1\n",
    "    r = 2 * i + 2\n",
    "    if l < n and arr[i] < arr[l]: \n",
    "        largest = l \n",
    "    if r < n and arr[largest] < arr[r]: \n",
    "        largest = r \n",
    "    if largest != i: \n",
    "        arr[i],arr[largest] = arr[largest],arr[i]\n",
    "        heapify(arr, n, largest)"
   ]
  },
  {
   "cell_type": "code",
   "execution_count": 2,
   "metadata": {},
   "outputs": [],
   "source": [
    "def heapSort(arr): \n",
    "    n = len(arr) \n",
    "    for i in range(n, -1, -1): \n",
    "        heapify(arr, n, i) \n",
    "    for i in range(n-1, 0, -1): \n",
    "        arr[i], arr[0] = arr[0], arr[i]\n",
    "        heapify(arr, i, 0) "
   ]
  },
  {
   "cell_type": "code",
   "execution_count": 3,
   "metadata": {},
   "outputs": [],
   "source": [
    "arr = [ 12, 11, 13, 5, 6, 7] "
   ]
  },
  {
   "cell_type": "code",
   "execution_count": 4,
   "metadata": {},
   "outputs": [],
   "source": [
    "heapSort(arr)"
   ]
  },
  {
   "cell_type": "code",
   "execution_count": 5,
   "metadata": {},
   "outputs": [
    {
     "name": "stdout",
     "output_type": "stream",
     "text": [
      "Sorted array is\n",
      "5\n",
      "6\n",
      "7\n",
      "11\n",
      "12\n",
      "13\n"
     ]
    }
   ],
   "source": [
    "n = len(arr) \n",
    "print (\"Sorted array is\") \n",
    "for i in range(n): \n",
    "    print (\"%d\" %arr[i])"
   ]
  },
  {
   "cell_type": "code",
   "execution_count": 8,
   "metadata": {},
   "outputs": [],
   "source": [
    "arr = [ 27, 11, 44, 32, 27, 36, 49] "
   ]
  },
  {
   "cell_type": "code",
   "execution_count": 9,
   "metadata": {},
   "outputs": [],
   "source": [
    "heapSort(arr)"
   ]
  },
  {
   "cell_type": "code",
   "execution_count": 10,
   "metadata": {},
   "outputs": [
    {
     "name": "stdout",
     "output_type": "stream",
     "text": [
      "Sorted array is\n",
      "11\n",
      "27\n",
      "27\n",
      "32\n",
      "36\n",
      "44\n",
      "49\n"
     ]
    }
   ],
   "source": [
    "n = len(arr) \n",
    "print (\"Sorted array is\") \n",
    "for i in range(n): \n",
    "    print (\"%d\" %arr[i])"
   ]
  },
  {
   "cell_type": "code",
   "execution_count": null,
   "metadata": {},
   "outputs": [],
   "source": []
  }
 ],
 "metadata": {
  "kernelspec": {
   "display_name": "Python 3",
   "language": "python",
   "name": "python3"
  },
  "language_info": {
   "codemirror_mode": {
    "name": "ipython",
    "version": 3
   },
   "file_extension": ".py",
   "mimetype": "text/x-python",
   "name": "python",
   "nbconvert_exporter": "python",
   "pygments_lexer": "ipython3",
   "version": "3.7.1"
  }
 },
 "nbformat": 4,
 "nbformat_minor": 2
}
